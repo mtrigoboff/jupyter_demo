{
 "cells": [
  {
   "attachments": {},
   "cell_type": "markdown",
   "metadata": {},
   "source": [
    "## Jupyter Notebook Demo\n",
    "##### Using The Debugger\n",
    "Click the left of the line number on line 3. This will create a red circle, which represents a __breakpoint__.\n",
    "\n",
    "You can now run the debugger by hitting _ctrl-shift-alt-Enter_, and the debugger will run your code and stop it at line 3, allowing you to step through the code from there."
   ]
  },
  {
   "cell_type": "code",
   "execution_count": null,
   "metadata": {},
   "outputs": [],
   "source": [
    "# simple demo of a Python cell\n",
    "print('hello jupyter')\n",
    "x = 3\n",
    "print(f'x is {x}')\n",
    "x += 4\n",
    "print(f'x is now {x}')\n",
    "pass"
   ]
  }
 ],
 "metadata": {
  "kernelspec": {
   "display_name": "Python 3",
   "language": "python",
   "name": "python3"
  },
  "language_info": {
   "codemirror_mode": {
    "name": "ipython",
    "version": 3
   },
   "file_extension": ".py",
   "mimetype": "text/x-python",
   "name": "python",
   "nbconvert_exporter": "python",
   "pygments_lexer": "ipython3",
   "version": "3.13.0"
  },
  "orig_nbformat": 4,
  "vscode": {
   "interpreter": {
    "hash": "5238573367df39f7286bb46f9ff5f08f63a01a80960060ce41e3c79b190280fa"
   }
  }
 },
 "nbformat": 4,
 "nbformat_minor": 2
}
